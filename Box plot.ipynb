{
  "cells": [
    {
      "cell_type": "markdown",
      "metadata": {
        "id": "view-in-github",
        "colab_type": "text"
      },
      "source": [
        "<a href=\"https://colab.research.google.com/github/galexbh/varianza-test/blob/master/Box%20plot.ipynb\" target=\"_parent\"><img src=\"https://colab.research.google.com/assets/colab-badge.svg\" alt=\"Open In Colab\"/></a>"
      ]
    },
    {
      "cell_type": "markdown",
      "id": "900ea98a-e621-4fdc-9e72-5759a87701c3",
      "metadata": {
        "id": "900ea98a-e621-4fdc-9e72-5759a87701c3"
      },
      "source": [
        "# UNAH\n",
        "## Facultad de Ingenieria\n",
        "## Carrera de Ingenieria en sistemas\n",
        "### Clase: Inteligencia Artificial\n",
        "\n",
        "*Prueba*"
      ]
    },
    {
      "cell_type": "code",
      "execution_count": 246,
      "id": "d89d7223-d7bc-4a2f-b8e2-7777b3abbbc9",
      "metadata": {
        "id": "d89d7223-d7bc-4a2f-b8e2-7777b3abbbc9"
      },
      "outputs": [],
      "source": [
        "import pandas as pd\n",
        "import numpy as np"
      ]
    },
    {
      "cell_type": "markdown",
      "id": "a6101627-a1bb-41ae-9a9c-6597e20ed26b",
      "metadata": {
        "id": "a6101627-a1bb-41ae-9a9c-6597e20ed26b"
      },
      "source": [
        "Segun el siguiente Dataset:"
      ]
    },
    {
      "cell_type": "code",
      "execution_count": 247,
      "id": "129c774e-4da0-4b46-918a-19e51df03fe3",
      "metadata": {
        "id": "129c774e-4da0-4b46-918a-19e51df03fe3"
      },
      "outputs": [],
      "source": [
        "pd_vector = pd.DataFrame( { \"num\" : range(1,101) } )"
      ]
    },
    {
      "cell_type": "code",
      "execution_count": 248,
      "id": "48d3c5b7-be61-4c2f-ada7-d9766b5d82db",
      "metadata": {
        "id": "48d3c5b7-be61-4c2f-ada7-d9766b5d82db",
        "outputId": "099e0088-1a12-4e26-b97e-ed923a42c794",
        "colab": {
          "base_uri": "https://localhost:8080/",
          "height": 424
        }
      },
      "outputs": [
        {
          "output_type": "execute_result",
          "data": {
            "text/plain": [
              "    num\n",
              "0     1\n",
              "1     2\n",
              "2     3\n",
              "3     4\n",
              "4     5\n",
              "..  ...\n",
              "95   96\n",
              "96   97\n",
              "97   98\n",
              "98   99\n",
              "99  100\n",
              "\n",
              "[100 rows x 1 columns]"
            ],
            "text/html": [
              "\n",
              "  <div id=\"df-08a4fa57-0f5b-4e58-9c84-0cbc1f9ed67f\">\n",
              "    <div class=\"colab-df-container\">\n",
              "      <div>\n",
              "<style scoped>\n",
              "    .dataframe tbody tr th:only-of-type {\n",
              "        vertical-align: middle;\n",
              "    }\n",
              "\n",
              "    .dataframe tbody tr th {\n",
              "        vertical-align: top;\n",
              "    }\n",
              "\n",
              "    .dataframe thead th {\n",
              "        text-align: right;\n",
              "    }\n",
              "</style>\n",
              "<table border=\"1\" class=\"dataframe\">\n",
              "  <thead>\n",
              "    <tr style=\"text-align: right;\">\n",
              "      <th></th>\n",
              "      <th>num</th>\n",
              "    </tr>\n",
              "  </thead>\n",
              "  <tbody>\n",
              "    <tr>\n",
              "      <th>0</th>\n",
              "      <td>1</td>\n",
              "    </tr>\n",
              "    <tr>\n",
              "      <th>1</th>\n",
              "      <td>2</td>\n",
              "    </tr>\n",
              "    <tr>\n",
              "      <th>2</th>\n",
              "      <td>3</td>\n",
              "    </tr>\n",
              "    <tr>\n",
              "      <th>3</th>\n",
              "      <td>4</td>\n",
              "    </tr>\n",
              "    <tr>\n",
              "      <th>4</th>\n",
              "      <td>5</td>\n",
              "    </tr>\n",
              "    <tr>\n",
              "      <th>...</th>\n",
              "      <td>...</td>\n",
              "    </tr>\n",
              "    <tr>\n",
              "      <th>95</th>\n",
              "      <td>96</td>\n",
              "    </tr>\n",
              "    <tr>\n",
              "      <th>96</th>\n",
              "      <td>97</td>\n",
              "    </tr>\n",
              "    <tr>\n",
              "      <th>97</th>\n",
              "      <td>98</td>\n",
              "    </tr>\n",
              "    <tr>\n",
              "      <th>98</th>\n",
              "      <td>99</td>\n",
              "    </tr>\n",
              "    <tr>\n",
              "      <th>99</th>\n",
              "      <td>100</td>\n",
              "    </tr>\n",
              "  </tbody>\n",
              "</table>\n",
              "<p>100 rows × 1 columns</p>\n",
              "</div>\n",
              "      <button class=\"colab-df-convert\" onclick=\"convertToInteractive('df-08a4fa57-0f5b-4e58-9c84-0cbc1f9ed67f')\"\n",
              "              title=\"Convert this dataframe to an interactive table.\"\n",
              "              style=\"display:none;\">\n",
              "        \n",
              "  <svg xmlns=\"http://www.w3.org/2000/svg\" height=\"24px\"viewBox=\"0 0 24 24\"\n",
              "       width=\"24px\">\n",
              "    <path d=\"M0 0h24v24H0V0z\" fill=\"none\"/>\n",
              "    <path d=\"M18.56 5.44l.94 2.06.94-2.06 2.06-.94-2.06-.94-.94-2.06-.94 2.06-2.06.94zm-11 1L8.5 8.5l.94-2.06 2.06-.94-2.06-.94L8.5 2.5l-.94 2.06-2.06.94zm10 10l.94 2.06.94-2.06 2.06-.94-2.06-.94-.94-2.06-.94 2.06-2.06.94z\"/><path d=\"M17.41 7.96l-1.37-1.37c-.4-.4-.92-.59-1.43-.59-.52 0-1.04.2-1.43.59L10.3 9.45l-7.72 7.72c-.78.78-.78 2.05 0 2.83L4 21.41c.39.39.9.59 1.41.59.51 0 1.02-.2 1.41-.59l7.78-7.78 2.81-2.81c.8-.78.8-2.07 0-2.86zM5.41 20L4 18.59l7.72-7.72 1.47 1.35L5.41 20z\"/>\n",
              "  </svg>\n",
              "      </button>\n",
              "      \n",
              "  <style>\n",
              "    .colab-df-container {\n",
              "      display:flex;\n",
              "      flex-wrap:wrap;\n",
              "      gap: 12px;\n",
              "    }\n",
              "\n",
              "    .colab-df-convert {\n",
              "      background-color: #E8F0FE;\n",
              "      border: none;\n",
              "      border-radius: 50%;\n",
              "      cursor: pointer;\n",
              "      display: none;\n",
              "      fill: #1967D2;\n",
              "      height: 32px;\n",
              "      padding: 0 0 0 0;\n",
              "      width: 32px;\n",
              "    }\n",
              "\n",
              "    .colab-df-convert:hover {\n",
              "      background-color: #E2EBFA;\n",
              "      box-shadow: 0px 1px 2px rgba(60, 64, 67, 0.3), 0px 1px 3px 1px rgba(60, 64, 67, 0.15);\n",
              "      fill: #174EA6;\n",
              "    }\n",
              "\n",
              "    [theme=dark] .colab-df-convert {\n",
              "      background-color: #3B4455;\n",
              "      fill: #D2E3FC;\n",
              "    }\n",
              "\n",
              "    [theme=dark] .colab-df-convert:hover {\n",
              "      background-color: #434B5C;\n",
              "      box-shadow: 0px 1px 3px 1px rgba(0, 0, 0, 0.15);\n",
              "      filter: drop-shadow(0px 1px 2px rgba(0, 0, 0, 0.3));\n",
              "      fill: #FFFFFF;\n",
              "    }\n",
              "  </style>\n",
              "\n",
              "      <script>\n",
              "        const buttonEl =\n",
              "          document.querySelector('#df-08a4fa57-0f5b-4e58-9c84-0cbc1f9ed67f button.colab-df-convert');\n",
              "        buttonEl.style.display =\n",
              "          google.colab.kernel.accessAllowed ? 'block' : 'none';\n",
              "\n",
              "        async function convertToInteractive(key) {\n",
              "          const element = document.querySelector('#df-08a4fa57-0f5b-4e58-9c84-0cbc1f9ed67f');\n",
              "          const dataTable =\n",
              "            await google.colab.kernel.invokeFunction('convertToInteractive',\n",
              "                                                     [key], {});\n",
              "          if (!dataTable) return;\n",
              "\n",
              "          const docLinkHtml = 'Like what you see? Visit the ' +\n",
              "            '<a target=\"_blank\" href=https://colab.research.google.com/notebooks/data_table.ipynb>data table notebook</a>'\n",
              "            + ' to learn more about interactive tables.';\n",
              "          element.innerHTML = '';\n",
              "          dataTable['output_type'] = 'display_data';\n",
              "          await google.colab.output.renderOutput(dataTable, element);\n",
              "          const docLink = document.createElement('div');\n",
              "          docLink.innerHTML = docLinkHtml;\n",
              "          element.appendChild(docLink);\n",
              "        }\n",
              "      </script>\n",
              "    </div>\n",
              "  </div>\n",
              "  "
            ]
          },
          "metadata": {},
          "execution_count": 248
        }
      ],
      "source": [
        "pd_vector"
      ]
    },
    {
      "cell_type": "markdown",
      "id": "68d2dfb1-9c1f-4116-89c5-05e2171c7018",
      "metadata": {
        "id": "68d2dfb1-9c1f-4116-89c5-05e2171c7018"
      },
      "source": [
        "Y segun los siguientes metodos de numpy"
      ]
    },
    {
      "cell_type": "code",
      "execution_count": 249,
      "id": "81d3dd14-6205-421a-9cf9-031027c6a213",
      "metadata": {
        "id": "81d3dd14-6205-421a-9cf9-031027c6a213",
        "outputId": "e336a956-2e5e-4881-c669-9d0d0462b721",
        "colab": {
          "base_uri": "https://localhost:8080/"
        }
      },
      "outputs": [
        {
          "output_type": "execute_result",
          "data": {
            "text/plain": [
              "833.25"
            ]
          },
          "metadata": {},
          "execution_count": 249
        }
      ],
      "source": [
        "np.var( pd_vector[\"num\"] ) ## Calcula la varianza"
      ]
    },
    {
      "cell_type": "code",
      "execution_count": 250,
      "id": "4b17ddd3-044d-4328-9f34-03bde615cc7a",
      "metadata": {
        "id": "4b17ddd3-044d-4328-9f34-03bde615cc7a",
        "outputId": "050825c3-3252-4e8a-add5-7792ff9be695",
        "colab": {
          "base_uri": "https://localhost:8080/"
        }
      },
      "outputs": [
        {
          "output_type": "execute_result",
          "data": {
            "text/plain": [
              "28.86607004772212"
            ]
          },
          "metadata": {},
          "execution_count": 250
        }
      ],
      "source": [
        "np.std( pd_vector[\"num\"] ) ## Calcula la desviacion estandar"
      ]
    },
    {
      "cell_type": "markdown",
      "id": "b0db84f8-c351-41db-b981-336b6738b19b",
      "metadata": {
        "id": "b0db84f8-c351-41db-b981-336b6738b19b"
      },
      "source": [
        "## Responda las siguientes ejercicios"
      ]
    },
    {
      "cell_type": "markdown",
      "id": "5d99d524-4a87-4fbf-a2b8-436a6cb4ddcd",
      "metadata": {
        "id": "5d99d524-4a87-4fbf-a2b8-436a6cb4ddcd"
      },
      "source": [
        "1. Grafique el Boxplot del vector \"num\""
      ]
    },
    {
      "cell_type": "code",
      "execution_count": 251,
      "id": "f36238bb-56d3-4bdb-9108-bb652a2c2f9c",
      "metadata": {
        "id": "f36238bb-56d3-4bdb-9108-bb652a2c2f9c",
        "outputId": "42945c53-8dad-4ff0-b3c0-b9ba53ee71ba",
        "colab": {
          "base_uri": "https://localhost:8080/",
          "height": 282
        }
      },
      "outputs": [
        {
          "output_type": "execute_result",
          "data": {
            "text/plain": [
              "<matplotlib.axes._subplots.AxesSubplot at 0x7fc5128cb110>"
            ]
          },
          "metadata": {},
          "execution_count": 251
        },
        {
          "output_type": "display_data",
          "data": {
            "text/plain": [
              "<Figure size 432x288 with 1 Axes>"
            ],
            "image/png": "[encoded data removed]"
          },
          "metadata": {
            "needs_background": "light"
          }
        }
      ],
      "source": [
        "pd_vector.boxplot(column=['num'])"
      ]
    },
    {
      "cell_type": "code",
      "source": [
        "pd_vector.describe()"
      ],
      "metadata": {
        "id": "xNteS1O3Tb-H",
        "outputId": "5cfe1e01-dcb2-4421-b134-c4ca12fbf86f",
        "colab": {
          "base_uri": "https://localhost:8080/",
          "height": 300
        }
      },
      "id": "xNteS1O3Tb-H",
      "execution_count": 252,
      "outputs": [
        {
          "output_type": "execute_result",
          "data": {
            "text/plain": [
              "              num\n",
              "count  100.000000\n",
              "mean    50.500000\n",
              "std     29.011492\n",
              "min      1.000000\n",
              "25%     25.750000\n",
              "50%     50.500000\n",
              "75%     75.250000\n",
              "max    100.000000"
            ],
            "text/html": [
              "\n",
              "  <div id=\"df-af3af811-2692-45f4-bacd-7e710bdd2500\">\n",
              "    <div class=\"colab-df-container\">\n",
              "      <div>\n",
              "<style scoped>\n",
              "    .dataframe tbody tr th:only-of-type {\n",
              "        vertical-align: middle;\n",
              "    }\n",
              "\n",
              "    .dataframe tbody tr th {\n",
              "        vertical-align: top;\n",
              "    }\n",
              "\n",
              "    .dataframe thead th {\n",
              "        text-align: right;\n",
              "    }\n",
              "</style>\n",
              "<table border=\"1\" class=\"dataframe\">\n",
              "  <thead>\n",
              "    <tr style=\"text-align: right;\">\n",
              "      <th></th>\n",
              "      <th>num</th>\n",
              "    </tr>\n",
              "  </thead>\n",
              "  <tbody>\n",
              "    <tr>\n",
              "      <th>count</th>\n",
              "      <td>100.000000</td>\n",
              "    </tr>\n",
              "    <tr>\n",
              "      <th>mean</th>\n",
              "      <td>50.500000</td>\n",
              "    </tr>\n",
              "    <tr>\n",
              "      <th>std</th>\n",
              "      <td>29.011492</td>\n",
              "    </tr>\n",
              "    <tr>\n",
              "      <th>min</th>\n",
              "      <td>1.000000</td>\n",
              "    </tr>\n",
              "    <tr>\n",
              "      <th>25%</th>\n",
              "      <td>25.750000</td>\n",
              "    </tr>\n",
              "    <tr>\n",
              "      <th>50%</th>\n",
              "      <td>50.500000</td>\n",
              "    </tr>\n",
              "    <tr>\n",
              "      <th>75%</th>\n",
              "      <td>75.250000</td>\n",
              "    </tr>\n",
              "    <tr>\n",
              "      <th>max</th>\n",
              "      <td>100.000000</td>\n",
              "    </tr>\n",
              "  </tbody>\n",
              "</table>\n",
              "</div>\n",
              "      <button class=\"colab-df-convert\" onclick=\"convertToInteractive('df-af3af811-2692-45f4-bacd-7e710bdd2500')\"\n",
              "              title=\"Convert this dataframe to an interactive table.\"\n",
              "              style=\"display:none;\">\n",
              "        \n",
              "  <svg xmlns=\"http://www.w3.org/2000/svg\" height=\"24px\"viewBox=\"0 0 24 24\"\n",
              "       width=\"24px\">\n",
              "    <path d=\"M0 0h24v24H0V0z\" fill=\"none\"/>\n",
              "    <path d=\"M18.56 5.44l.94 2.06.94-2.06 2.06-.94-2.06-.94-.94-2.06-.94 2.06-2.06.94zm-11 1L8.5 8.5l.94-2.06 2.06-.94-2.06-.94L8.5 2.5l-.94 2.06-2.06.94zm10 10l.94 2.06.94-2.06 2.06-.94-2.06-.94-.94-2.06-.94 2.06-2.06.94z\"/><path d=\"M17.41 7.96l-1.37-1.37c-.4-.4-.92-.59-1.43-.59-.52 0-1.04.2-1.43.59L10.3 9.45l-7.72 7.72c-.78.78-.78 2.05 0 2.83L4 21.41c.39.39.9.59 1.41.59.51 0 1.02-.2 1.41-.59l7.78-7.78 2.81-2.81c.8-.78.8-2.07 0-2.86zM5.41 20L4 18.59l7.72-7.72 1.47 1.35L5.41 20z\"/>\n",
              "  </svg>\n",
              "      </button>\n",
              "      \n",
              "  <style>\n",
              "    .colab-df-container {\n",
              "      display:flex;\n",
              "      flex-wrap:wrap;\n",
              "      gap: 12px;\n",
              "    }\n",
              "\n",
              "    .colab-df-convert {\n",
              "      background-color: #E8F0FE;\n",
              "      border: none;\n",
              "      border-radius: 50%;\n",
              "      cursor: pointer;\n",
              "      display: none;\n",
              "      fill: #1967D2;\n",
              "      height: 32px;\n",
              "      padding: 0 0 0 0;\n",
              "      width: 32px;\n",
              "    }\n",
              "\n",
              "    .colab-df-convert:hover {\n",
              "      background-color: #E2EBFA;\n",
              "      box-shadow: 0px 1px 2px rgba(60, 64, 67, 0.3), 0px 1px 3px 1px rgba(60, 64, 67, 0.15);\n",
              "      fill: #174EA6;\n",
              "    }\n",
              "\n",
              "    [theme=dark] .colab-df-convert {\n",
              "      background-color: #3B4455;\n",
              "      fill: #D2E3FC;\n",
              "    }\n",
              "\n",
              "    [theme=dark] .colab-df-convert:hover {\n",
              "      background-color: #434B5C;\n",
              "      box-shadow: 0px 1px 3px 1px rgba(0, 0, 0, 0.15);\n",
              "      filter: drop-shadow(0px 1px 2px rgba(0, 0, 0, 0.3));\n",
              "      fill: #FFFFFF;\n",
              "    }\n",
              "  </style>\n",
              "\n",
              "      <script>\n",
              "        const buttonEl =\n",
              "          document.querySelector('#df-af3af811-2692-45f4-bacd-7e710bdd2500 button.colab-df-convert');\n",
              "        buttonEl.style.display =\n",
              "          google.colab.kernel.accessAllowed ? 'block' : 'none';\n",
              "\n",
              "        async function convertToInteractive(key) {\n",
              "          const element = document.querySelector('#df-af3af811-2692-45f4-bacd-7e710bdd2500');\n",
              "          const dataTable =\n",
              "            await google.colab.kernel.invokeFunction('convertToInteractive',\n",
              "                                                     [key], {});\n",
              "          if (!dataTable) return;\n",
              "\n",
              "          const docLinkHtml = 'Like what you see? Visit the ' +\n",
              "            '<a target=\"_blank\" href=https://colab.research.google.com/notebooks/data_table.ipynb>data table notebook</a>'\n",
              "            + ' to learn more about interactive tables.';\n",
              "          element.innerHTML = '';\n",
              "          dataTable['output_type'] = 'display_data';\n",
              "          await google.colab.output.renderOutput(dataTable, element);\n",
              "          const docLink = document.createElement('div');\n",
              "          docLink.innerHTML = docLinkHtml;\n",
              "          element.appendChild(docLink);\n",
              "        }\n",
              "      </script>\n",
              "    </div>\n",
              "  </div>\n",
              "  "
            ]
          },
          "metadata": {},
          "execution_count": 252
        }
      ]
    },
    {
      "cell_type": "markdown",
      "id": "c3011ce8-15f1-4b3b-b7ab-44172bf7c8a2",
      "metadata": {
        "id": "c3011ce8-15f1-4b3b-b7ab-44172bf7c8a2"
      },
      "source": [
        "2. Calcule la varianza y desviacion estandard de cada uno de los quartiles\n",
        "\n",
        "Nota: realice manual la divicion del dataset para obtener cada uno de quartiles, al final obtendra cuatro dataframes"
      ]
    },
    {
      "cell_type": "code",
      "execution_count": 253,
      "id": "8b18a52f-71b7-4760-81c3-7728e69613ce",
      "metadata": {
        "id": "8b18a52f-71b7-4760-81c3-7728e69613ce"
      },
      "outputs": [],
      "source": [
        "Q1 = pd_vector.iloc[0:25]\n",
        "Q2 = pd_vector.iloc[25:50]\n",
        "Q3 = pd_vector.iloc[50:75]\n",
        "Q4 = pd_vector.iloc[75:100]"
      ]
    },
    {
      "cell_type": "code",
      "source": [
        "from google.colab import widgets\n",
        "grid = widgets.Grid(2, 2, header_row=True, header_column=True)\n",
        "with grid.output_to(0, 0):\n",
        "    Q1.boxplot()\n",
        "with grid.output_to(0, 1):\n",
        "    Q2.boxplot()\n",
        "with grid.output_to(1, 0):\n",
        "    Q3.boxplot()\n",
        "with grid.output_to(1, 1):\n",
        "    Q4.boxplot()"
      ],
      "metadata": {
        "id": "Z_EJu8I5i4hm",
        "outputId": "105e7539-dca9-4388-a58c-c1cb4da30a06",
        "colab": {
          "base_uri": "https://localhost:8080/",
          "height": 520
        }
      },
      "id": "Z_EJu8I5i4hm",
      "execution_count": 254,
      "outputs": [
        {
          "output_type": "display_data",
          "data": {
            "text/plain": [
              "<IPython.core.display.HTML object>"
            ],
            "text/html": [
              "<style>\n",
              "       table#id24, #id24 > tbody > tr > th, #id24 > tbody > tr > td {\n",
              "         border: 1px solid lightgray;\n",
              "         border-collapse:collapse;\n",
              "         \n",
              "        }</style>"
            ]
          },
          "metadata": {}
        },
        {
          "output_type": "display_data",
          "data": {
            "text/plain": [
              "<IPython.core.display.HTML object>"
            ],
            "text/html": [
              "<table id=id24><tr><th id=id24-0-0></th><th id=id24-0-1></th></tr><tr><th id=id24-1-0></th><td id=id24-1-1></td></tr></table>"
            ]
          },
          "metadata": {}
        },
        {
          "output_type": "display_data",
          "data": {
            "text/plain": [
              "<IPython.core.display.Javascript object>"
            ],
            "application/javascript": [
              "window[\"8b7fd282-5411-11ed-bcd1-0242ac1c0002\"] = google.colab.output.getActiveOutputArea();\n",
              "//# sourceURL=js_8de264fae1"
            ]
          },
          "metadata": {}
        },
        {
          "output_type": "display_data",
          "data": {
            "text/plain": [
              "<IPython.core.display.Javascript object>"
            ],
            "application/javascript": [
              "window[\"8b8008f6-5411-11ed-bcd1-0242ac1c0002\"] = document.querySelector(\"#id24-0-0\");\n",
              "//# sourceURL=js_856865fb5c"
            ]
          },
          "metadata": {}
        },
        {
          "output_type": "display_data",
          "data": {
            "text/plain": [
              "<IPython.core.display.Javascript object>"
            ],
            "application/javascript": [
              "window[\"8b806652-5411-11ed-bcd1-0242ac1c0002\"] = google.colab.output.setActiveOutputArea(window[\"8b8008f6-5411-11ed-bcd1-0242ac1c0002\"]);\n",
              "//# sourceURL=js_ed0c335526"
            ]
          },
          "metadata": {}
        },
        {
          "output_type": "display_data",
          "data": {
            "text/plain": [
              "<Figure size 432x288 with 1 Axes>"
            ],
            "image/png": "[encoded data removed]"
          },
          "metadata": {
            "needs_background": "light"
          }
        },
        {
          "output_type": "display_data",
          "data": {
            "text/plain": [
              "<IPython.core.display.Javascript object>"
            ],
            "application/javascript": [
              "window[\"8b90ec34-5411-11ed-bcd1-0242ac1c0002\"] = google.colab.output.setActiveOutputArea(window[\"8b7fd282-5411-11ed-bcd1-0242ac1c0002\"]);\n",
              "//# sourceURL=js_e40b10ff70"
            ]
          },
          "metadata": {}
        },
        {
          "output_type": "display_data",
          "data": {
            "text/plain": [
              "<IPython.core.display.Javascript object>"
            ],
            "application/javascript": [
              "window[\"8b94b76a-5411-11ed-bcd1-0242ac1c0002\"] = google.colab.output.getActiveOutputArea();\n",
              "//# sourceURL=js_4fcbccbd75"
            ]
          },
          "metadata": {}
        },
        {
          "output_type": "display_data",
          "data": {
            "text/plain": [
              "<IPython.core.display.Javascript object>"
            ],
            "application/javascript": [
              "window[\"8b955454-5411-11ed-bcd1-0242ac1c0002\"] = document.querySelector(\"#id24-0-1\");\n",
              "//# sourceURL=js_9454aed8c6"
            ]
          },
          "metadata": {}
        },
        {
          "output_type": "display_data",
          "data": {
            "text/plain": [
              "<IPython.core.display.Javascript object>"
            ],
            "application/javascript": [
              "window[\"8b9613c6-5411-11ed-bcd1-0242ac1c0002\"] = google.colab.output.setActiveOutputArea(window[\"8b955454-5411-11ed-bcd1-0242ac1c0002\"]);\n",
              "//# sourceURL=js_291dd88e06"
            ]
          },
          "metadata": {}
        },
        {
          "output_type": "display_data",
          "data": {
            "text/plain": [
              "<Figure size 432x288 with 1 Axes>"
            ],
            "image/png": "[encoded data removed]"
          },
          "metadata": {
            "needs_background": "light"
          }
        },
        {
          "output_type": "display_data",
          "data": {
            "text/plain": [
              "<IPython.core.display.Javascript object>"
            ],
            "application/javascript": [
              "window[\"8c6dbf88-5411-11ed-bcd1-0242ac1c0002\"] = google.colab.output.setActiveOutputArea(window[\"8b94b76a-5411-11ed-bcd1-0242ac1c0002\"]);\n",
              "//# sourceURL=js_674a7cd7b7"
            ]
          },
          "metadata": {}
        },
        {
          "output_type": "display_data",
          "data": {
            "text/plain": [
              "<IPython.core.display.Javascript object>"
            ],
            "application/javascript": [
              "window[\"8c6fb9fa-5411-11ed-bcd1-0242ac1c0002\"] = google.colab.output.getActiveOutputArea();\n",
              "//# sourceURL=js_25134a9609"
            ]
          },
          "metadata": {}
        },
        {
          "output_type": "display_data",
          "data": {
            "text/plain": [
              "<IPython.core.display.Javascript object>"
            ],
            "application/javascript": [
              "window[\"8c700504-5411-11ed-bcd1-0242ac1c0002\"] = document.querySelector(\"#id24-1-0\");\n",
              "//# sourceURL=js_e541ef0db2"
            ]
          },
          "metadata": {}
        },
        {
          "output_type": "display_data",
          "data": {
            "text/plain": [
              "<IPython.core.display.Javascript object>"
            ],
            "application/javascript": [
              "window[\"8c70496a-5411-11ed-bcd1-0242ac1c0002\"] = google.colab.output.setActiveOutputArea(window[\"8c700504-5411-11ed-bcd1-0242ac1c0002\"]);\n",
              "//# sourceURL=js_06696004ec"
            ]
          },
          "metadata": {}
        },
        {
          "output_type": "display_data",
          "data": {
            "text/plain": [
              "<Figure size 432x288 with 1 Axes>"
            ],
            "image/png": "[encoded data removed]"
          },
          "metadata": {
            "needs_background": "light"
          }
        },
        {
          "output_type": "display_data",
          "data": {
            "text/plain": [
              "<IPython.core.display.Javascript object>"
            ],
            "application/javascript": [
              "window[\"8c8142e2-5411-11ed-bcd1-0242ac1c0002\"] = google.colab.output.setActiveOutputArea(window[\"8c6fb9fa-5411-11ed-bcd1-0242ac1c0002\"]);\n",
              "//# sourceURL=js_2eb9c25a11"
            ]
          },
          "metadata": {}
        },
        {
          "output_type": "display_data",
          "data": {
            "text/plain": [
              "<IPython.core.display.Javascript object>"
            ],
            "application/javascript": [
              "window[\"8c836e32-5411-11ed-bcd1-0242ac1c0002\"] = google.colab.output.getActiveOutputArea();\n",
              "//# sourceURL=js_d0085e342a"
            ]
          },
          "metadata": {}
        },
        {
          "output_type": "display_data",
          "data": {
            "text/plain": [
              "<IPython.core.display.Javascript object>"
            ],
            "application/javascript": [
              "window[\"8c83b1e4-5411-11ed-bcd1-0242ac1c0002\"] = document.querySelector(\"#id24-1-1\");\n",
              "//# sourceURL=js_2a9a94d17c"
            ]
          },
          "metadata": {}
        },
        {
          "output_type": "display_data",
          "data": {
            "text/plain": [
              "<IPython.core.display.Javascript object>"
            ],
            "application/javascript": [
              "window[\"8c83fb9a-5411-11ed-bcd1-0242ac1c0002\"] = google.colab.output.setActiveOutputArea(window[\"8c83b1e4-5411-11ed-bcd1-0242ac1c0002\"]);\n",
              "//# sourceURL=js_64ca463dfc"
            ]
          },
          "metadata": {}
        },
        {
          "output_type": "display_data",
          "data": {
            "text/plain": [
              "<Figure size 432x288 with 1 Axes>"
            ],
            "image/png": "[encoded data removed]"
          },
          "metadata": {
            "needs_background": "light"
          }
        },
        {
          "output_type": "display_data",
          "data": {
            "text/plain": [
              "<IPython.core.display.Javascript object>"
            ],
            "application/javascript": [
              "window[\"8c93a82e-5411-11ed-bcd1-0242ac1c0002\"] = google.colab.output.setActiveOutputArea(window[\"8c836e32-5411-11ed-bcd1-0242ac1c0002\"]);\n",
              "//# sourceURL=js_59e7bcdc58"
            ]
          },
          "metadata": {}
        }
      ]
    },
    {
      "cell_type": "code",
      "source": [
        "print(\"sample variance of Q1\", np.var(Q1[\"num\"], ddof=1)) #ddof -> Grados de libertad\n",
        "print(\"sample variance of Q2\", np.var(Q2[\"num\"], ddof=1))\n",
        "print(\"sample variance of Q3\", np.var(Q3[\"num\"], ddof=1))\n",
        "print(\"sample variance of Q4\", np.var(Q4[\"num\"], ddof=1))"
      ],
      "metadata": {
        "id": "Lg_0Jnr5jS8L",
        "outputId": "e25f77b5-e6ff-488b-ed22-bb44a9a8ae22",
        "colab": {
          "base_uri": "https://localhost:8080/"
        }
      },
      "id": "Lg_0Jnr5jS8L",
      "execution_count": 255,
      "outputs": [
        {
          "output_type": "stream",
          "name": "stdout",
          "text": [
            "sample variance of Q1 54.166666666666664\n",
            "sample variance of Q2 54.166666666666664\n",
            "sample variance of Q3 54.166666666666664\n",
            "sample variance of Q4 54.166666666666664\n"
          ]
        }
      ]
    },
    {
      "cell_type": "code",
      "source": [
        "print(\"Sample standard deviation of Q1\", np.std(Q1[\"num\"], ddof=1))\n",
        "print(\"Sample standard deviation of Q2\", np.std(Q2[\"num\"], ddof=1))\n",
        "print(\"Sample standard deviation of Q3\", np.std(Q3[\"num\"], ddof=1))\n",
        "print(\"Sample standard deviation of Q4\", np.std(Q4[\"num\"], ddof=1))"
      ],
      "metadata": {
        "id": "HInV-X6x6Hfh",
        "outputId": "68e7e619-7247-4031-8eef-ccd7db454576",
        "colab": {
          "base_uri": "https://localhost:8080/"
        }
      },
      "id": "HInV-X6x6Hfh",
      "execution_count": 256,
      "outputs": [
        {
          "output_type": "stream",
          "name": "stdout",
          "text": [
            "Sample standard deviation of Q1 7.359800721939872\n",
            "Sample standard deviation of Q2 7.359800721939872\n",
            "Sample standard deviation of Q3 7.359800721939872\n",
            "Sample standard deviation of Q4 7.359800721939872\n"
          ]
        }
      ]
    },
    {
      "cell_type": "markdown",
      "id": "b1aac673-aa4f-40c4-8ae2-364247dcaad1",
      "metadata": {
        "id": "b1aac673-aa4f-40c4-8ae2-364247dcaad1"
      },
      "source": [
        "3. Explique la respuesta que obtuvo en el ejercicio dos, recuerde que se puede apoyar del grafico del ejercicio uno para hacer referencias sobre distribucion en caso de que sea necesario."
      ]
    },
    {
      "cell_type": "markdown",
      "source": [
        "En términos de varianza muestral y desviación estándar muestral, reflejan que los datos tienen un grado de dispersión bastante **alto**, ya que los datos de 1 a 100 (muy pequeño a muy grande) afectan el grado de dispersión de los datos datos.\n",
        "\n",
        "Aunque el diagrama de caja de medidas discretas (boxplot) que se usó en el ejercicio 1 no parece tener valores atípicos, sí sugiere que los hay las medidas que se utilizaron en cada muestra del ejercicio 2.\n",
        "\n",
        "Además, el hecho de que todos los valores de Qn sean iguales se debe al promedio de las muestras."
      ],
      "metadata": {
        "id": "JO9-jR26X33S"
      },
      "id": "JO9-jR26X33S"
    }
  ],
  "metadata": {
    "kernelspec": {
      "display_name": "Python 3",
      "language": "python",
      "name": "python3"
    },
    "language_info": {
      "codemirror_mode": {
        "name": "ipython",
        "version": 3
      },
      "file_extension": ".py",
      "mimetype": "text/x-python",
      "name": "python",
      "nbconvert_exporter": "python",
      "pygments_lexer": "ipython3",
      "version": "3.8.8"
    },
    "colab": {
      "provenance": [],
      "include_colab_link": true
    }
  },
  "nbformat": 4,
  "nbformat_minor": 5
}